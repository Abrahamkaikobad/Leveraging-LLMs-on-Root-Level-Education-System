{
 "cells": [
  {
   "cell_type": "code",
   "execution_count": 1,
   "metadata": {
    "colab": {
     "base_uri": "https://localhost:8080/"
    },
    "executionInfo": {
     "elapsed": 31157,
     "status": "ok",
     "timestamp": 1719904640903,
     "user": {
      "displayName": "dior sauvage",
      "userId": "11914088016199393545"
     },
     "user_tz": -330
    },
    "id": "e1XQS9iDTZCe",
    "outputId": "2a0356d0-6c7d-4bc4-d79b-8ca25320f31c"
   },
   "outputs": [
    {
     "name": "stdout",
     "output_type": "stream",
     "text": [
      "Mounted at /content/drive\n"
     ]
    }
   ],
   "source": [
    "from google.colab import drive\n",
    "drive.mount('/content/drive')"
   ]
  },
  {
   "cell_type": "code",
   "execution_count": 2,
   "metadata": {
    "colab": {
     "base_uri": "https://localhost:8080/"
    },
    "executionInfo": {
     "elapsed": 11819,
     "status": "ok",
     "timestamp": 1719904933914,
     "user": {
      "displayName": "dior sauvage",
      "userId": "11914088016199393545"
     },
     "user_tz": -330
    },
    "id": "OI2pVWGZTaPx",
    "outputId": "c648d17d-43ba-4c3c-f963-c249b8ae183f"
   },
   "outputs": [
    {
     "name": "stdout",
     "output_type": "stream",
     "text": [
      "Collecting PyMuPDF\n",
      "  Downloading PyMuPDF-1.24.7-cp310-none-manylinux2014_x86_64.whl (3.5 MB)\n",
      "\u001b[2K     \u001b[90m━━━━━━━━━━━━━━━━━━━━━━━━━━━━━━━━━━━━━━━━\u001b[0m \u001b[32m3.5/3.5 MB\u001b[0m \u001b[31m27.9 MB/s\u001b[0m eta \u001b[36m0:00:00\u001b[0m\n",
      "\u001b[?25hCollecting PyMuPDFb==1.24.6 (from PyMuPDF)\n",
      "  Downloading PyMuPDFb-1.24.6-py3-none-manylinux2014_x86_64.manylinux_2_17_x86_64.whl (15.7 MB)\n",
      "\u001b[2K     \u001b[90m━━━━━━━━━━━━━━━━━━━━━━━━━━━━━━━━━━━━━━━━\u001b[0m \u001b[32m15.7/15.7 MB\u001b[0m \u001b[31m63.1 MB/s\u001b[0m eta \u001b[36m0:00:00\u001b[0m\n",
      "\u001b[?25hInstalling collected packages: PyMuPDFb, PyMuPDF\n",
      "Successfully installed PyMuPDF-1.24.7 PyMuPDFb-1.24.6\n",
      "\u001b[31mERROR: Could not find a version that satisfies the requirement json (from versions: none)\u001b[0m\u001b[31m\n",
      "\u001b[0m\u001b[31mERROR: No matching distribution found for json\u001b[0m\u001b[31m\n",
      "\u001b[0m"
     ]
    }
   ],
   "source": [
    "!pip install PyMuPDF\n",
    "!pip install json\n"
   ]
  },
  {
   "cell_type": "code",
   "execution_count": 3,
   "metadata": {
    "executionInfo": {
     "elapsed": 498,
     "status": "ok",
     "timestamp": 1719904962303,
     "user": {
      "displayName": "dior sauvage",
      "userId": "11914088016199393545"
     },
     "user_tz": -330
    },
    "id": "wiHewOJ6UpGe"
   },
   "outputs": [],
   "source": [
    "import fitz  # PyMuPDF\n",
    "import os\n",
    "import json\n",
    "\n",
    "def extract_text_from_pdf(pdf_path):\n",
    "    pages_content = []\n",
    "    try:\n",
    "        with fitz.open(pdf_path) as doc:\n",
    "            for page_num in range(len(doc)):\n",
    "                page = doc.load_page(page_num)\n",
    "                pages_content.append(page.get_text())\n",
    "    except Exception as e:\n",
    "        print(f\"Error reading {pdf_path}: {e}\")\n",
    "    return pages_content\n"
   ]
  },
  {
   "cell_type": "code",
   "execution_count": 4,
   "metadata": {
    "executionInfo": {
     "elapsed": 463,
     "status": "ok",
     "timestamp": 1719905011577,
     "user": {
      "displayName": "dior sauvage",
      "userId": "11914088016199393545"
     },
     "user_tz": -330
    },
    "id": "BqEkGy6AUwuB"
   },
   "outputs": [],
   "source": [
    "def convert_to_json_format(pdf_pages, title, subject):\n",
    "    content_dict = {f\"Page{index + 1}\": page_content for index, page_content in enumerate(pdf_pages)}\n",
    "    return {\n",
    "        \"title\": title,\n",
    "        \"subject\": subject,\n",
    "        \"content\": content_dict\n",
    "    }\n"
   ]
  },
  {
   "cell_type": "code",
   "execution_count": 5,
   "metadata": {
    "executionInfo": {
     "elapsed": 44025,
     "status": "ok",
     "timestamp": 1719905057785,
     "user": {
      "displayName": "dior sauvage",
      "userId": "11914088016199393545"
     },
     "user_tz": -330
    },
    "id": "fxrop5ClU2Dh"
   },
   "outputs": [],
   "source": [
    "import os\n",
    "\n",
    "base_path = '/content/drive/MyDrive/Dataset_498R'\n",
    "subjects = ['eng', 'math', 'science']\n",
    "data = []\n",
    "\n",
    "for subject in subjects:\n",
    "    folder_path = os.path.join(base_path, subject)\n",
    "    if os.path.exists(folder_path):\n",
    "        for filename in os.listdir(folder_path):\n",
    "            if filename.endswith('.pdf'):\n",
    "                pdf_path = os.path.join(folder_path, filename)\n",
    "                pdf_pages = extract_text_from_pdf(pdf_path)\n",
    "                book_json = convert_to_json_format(pdf_pages, filename, subject)\n",
    "                data.append(book_json)\n",
    "\n",
    "# Save the data to a JSON file\n",
    "json_output_path = '/content/drive/MyDrive/Dataset_498R/books_data.json'\n",
    "with open(json_output_path, 'w') as json_file:\n",
    "    json.dump(data, json_file, indent=4)\n"
   ]
  },
  {
   "cell_type": "code",
   "execution_count": 6,
   "metadata": {
    "colab": {
     "base_uri": "https://localhost:8080/"
    },
    "executionInfo": {
     "elapsed": 502,
     "status": "ok",
     "timestamp": 1719908294986,
     "user": {
      "displayName": "dior sauvage",
      "userId": "11914088016199393545"
     },
     "user_tz": -330
    },
    "id": "ULcyQWzhU35V",
    "outputId": "0eb725ff-5040-4674-eaaa-4f88dae2ed79"
   },
   "outputs": [
    {
     "name": "stdout",
     "output_type": "stream",
     "text": [
      "Filtered and formatted data has been saved to /content/drive/MyDrive/Dataset_498R/filtered_books_data.json\n"
     ]
    }
   ],
   "source": [
    "import re\n",
    "\n",
    "input_file = '/content/drive/MyDrive/Dataset_498R/books_data.json'\n",
    "output_file = '/content/drive/MyDrive/Dataset_498R/filtered_books_data.json'\n",
    "def filter_and_format_data(data):\n",
    "    formatted_data = []\n",
    "    for book in data:\n",
    "        title = book.get('title', 'Unknown Title')\n",
    "        subject = book.get('subject', 'Unknown Subject')\n",
    "        content = book.get('content', {})\n",
    "\n",
    "        formatted_content = {}\n",
    "        for page, text in content.items():\n",
    "            # Remove unwanted patterns (example: remove \"Reprint 2024-25\" and other such patterns)\n",
    "            filtered_text = re.sub(r'Reprint \\d{4}-\\d{2}', '', text)\n",
    "            # Remove multiple newlines and extra spaces\n",
    "            filtered_text = re.sub(r'\\s+', ' ', filtered_text).strip()\n",
    "            formatted_content[page] = filtered_text\n",
    "\n",
    "        formatted_book = {\n",
    "            \"title\": title,\n",
    "            \"subject\": subject,\n",
    "            \"content\": formatted_content\n",
    "        }\n",
    "\n",
    "        formatted_data.append(formatted_book)\n",
    "\n",
    "    return formatted_data\n",
    "\n",
    "with open(input_file, 'r') as infile:\n",
    "    data = json.load(infile)\n",
    "\n",
    "formatted_data = filter_and_format_data(data)\n",
    "\n",
    "\n",
    "with open(output_file, 'w') as outfile:\n",
    "    json.dump(formatted_data, outfile, indent=4)\n",
    "\n",
    "print(f\"Filtered and formatted data has been saved to {output_file}\")"
   ]
  }
 ],
 "metadata": {
  "colab": {
   "authorship_tag": "ABX9TyMGhrDlUh3dOlntzAU2rpOx",
   "provenance": []
  },
  "kernelspec": {
   "display_name": "Python 3",
   "name": "python3"
  },
  "language_info": {
   "name": "python"
  }
 },
 "nbformat": 4,
 "nbformat_minor": 0
}
